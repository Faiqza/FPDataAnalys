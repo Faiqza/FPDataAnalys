{
  "cells": [
    {
      "cell_type": "markdown",
      "metadata": {
        "id": "H9wADwK78DCz"
      },
      "source": [
        "# Proyek Analisis Data: Air Quality Dataset\n",
        "- **Nama:** faiqfahreza1@gmail.com\n",
        "- **Email:** m004d4ky2473@bangkit.academy\n",
        "- **ID Dicoding:** Faiq Fahreza M004D4KY2473"
      ]
    },
    {
      "cell_type": "markdown",
      "metadata": {
        "id": "eE0raob58DC0"
      },
      "source": [
        "## Menentukan Pertanyaan Bisnis"
      ]
    },
    {
      "cell_type": "markdown",
      "metadata": {
        "id": "GmQeQ5YF8DC0"
      },
      "source": [
        "- Bagaimanakah hubungan antara pm2.5 dan pm10?\n",
        "- Tahun berapakah yang memiliki rerata bulanan pm2.5 paling tinggi?"
      ]
    },
    {
      "cell_type": "markdown",
      "metadata": {
        "id": "H-z4QGlO8DC1"
      },
      "source": [
        "## Import Semua Packages/Library yang Digunakan"
      ]
    },
    {
      "cell_type": "code",
      "execution_count": 4,
      "metadata": {
        "id": "FVYwaObI8DC1"
      },
      "outputs": [],
      "source": [
        "import pandas as pd\n",
        "import numpy as np\n",
        "import matplotlib.pyplot as plt\n",
        "import seaborn as sns\n",
        "import os"
      ]
    },
    {
      "cell_type": "markdown",
      "metadata": {
        "id": "h_Sh51Xy8DC1"
      },
      "source": [
        "## Data Wrangling"
      ]
    },
    {
      "cell_type": "markdown",
      "metadata": {
        "id": "sXU2GBYu8DC1"
      },
      "source": [
        "### Gathering Data"
      ]
    },
    {
      "cell_type": "code",
      "execution_count": 5,
      "metadata": {
        "colab": {
          "base_uri": "https://localhost:8080/",
          "height": 423
        },
        "id": "CFwGMJzkozpF",
        "outputId": "ebee82f5-8aca-4d03-935d-e26836500b38"
      },
      "outputs": [],
      "source": [
        "folder_data = \"C:/FP Data Analys bangkit/Data\"  \n",
        "\n",
        "dfs = []\n",
        "for name in os.listdir(folder_data):\n",
        "    file_path = os.path.join(folder_data, name)\n",
        "    df = pd.read_csv(file_path)\n",
        "    dfs.append(df)\n",
        "\n",
        "data = pd.concat(dfs, ignore_index=True)"
      ]
    },
    {
      "cell_type": "code",
      "execution_count": 6,
      "metadata": {
        "colab": {
          "base_uri": "https://localhost:8080/"
        },
        "id": "KRq2oItePTxD",
        "outputId": "815f9cc7-546b-4eca-88ab-6883d24b4d09"
      },
      "outputs": [
        {
          "data": {
            "text/plain": [
              "(   No  year  month  day  hour  PM2.5  PM10  SO2   NO2     CO    O3  TEMP  \\\n",
              " 0   1  2013      3    1     0    9.0   9.0  6.0  17.0  200.0  62.0   0.3   \n",
              " 1   2  2013      3    1     1   11.0  11.0  7.0  14.0  200.0  66.0  -0.1   \n",
              " 2   3  2013      3    1     2    8.0   8.0  NaN  16.0  200.0  59.0  -0.6   \n",
              " 3   4  2013      3    1     3    8.0   8.0  3.0  16.0    NaN   NaN  -0.7   \n",
              " 4   5  2013      3    1     4    8.0   8.0  3.0   NaN  300.0  36.0  -0.9   \n",
              " \n",
              "      PRES  DEWP  RAIN   wd  WSPM        station  \n",
              " 0  1021.9 -19.0   0.0  WNW   2.0  Wanshouxigong  \n",
              " 1  1022.4 -19.3   0.0  WNW   4.4  Wanshouxigong  \n",
              " 2  1022.6 -19.7   0.0  WNW   4.7  Wanshouxigong  \n",
              " 3  1023.5 -20.9   0.0   NW   2.6  Wanshouxigong  \n",
              " 4  1024.1 -21.7   0.0  WNW   2.5  Wanshouxigong  ,\n",
              " Index(['No', 'year', 'month', 'day', 'hour', 'PM2.5', 'PM10', 'SO2', 'NO2',\n",
              "        'CO', 'O3', 'TEMP', 'PRES', 'DEWP', 'RAIN', 'wd', 'WSPM', 'station'],\n",
              "       dtype='object'),\n",
              " No           int64\n",
              " year         int64\n",
              " month        int64\n",
              " day          int64\n",
              " hour         int64\n",
              " PM2.5      float64\n",
              " PM10       float64\n",
              " SO2        float64\n",
              " NO2        float64\n",
              " CO         float64\n",
              " O3         float64\n",
              " TEMP       float64\n",
              " PRES       float64\n",
              " DEWP       float64\n",
              " RAIN       float64\n",
              " wd          object\n",
              " WSPM       float64\n",
              " station     object\n",
              " dtype: object)"
            ]
          },
          "execution_count": 6,
          "metadata": {},
          "output_type": "execute_result"
        }
      ],
      "source": [
        "# Melakukan cek data frame\n",
        "initial_assessment = df.head()\n",
        "initial_columns = df.columns\n",
        "initial_datatypes = df.dtypes\n",
        "\n",
        "\n",
        "\n",
        "initial_assessment, initial_columns, initial_datatypes"
      ]
    },
    {
      "cell_type": "markdown",
      "metadata": {
        "id": "v-gdMeA1P3yg"
      },
      "source": [
        "Memeriksa adanya missing value"
      ]
    },
    {
      "cell_type": "code",
      "execution_count": 7,
      "metadata": {
        "colab": {
          "base_uri": "https://localhost:8080/"
        },
        "id": "Iew1omavsBnW",
        "outputId": "ddb7cdcd-c766-405a-aa15-d538b529bba8"
      },
      "outputs": [
        {
          "data": {
            "text/plain": [
              "No            0\n",
              "year          0\n",
              "month         0\n",
              "day           0\n",
              "hour          0\n",
              "PM2.5       696\n",
              "PM10        484\n",
              "SO2         669\n",
              "NO2         754\n",
              "CO         1297\n",
              "O3         1078\n",
              "TEMP         19\n",
              "PRES         19\n",
              "DEWP         19\n",
              "RAIN         19\n",
              "wd           79\n",
              "WSPM         13\n",
              "station       0\n",
              "dtype: int64"
            ]
          },
          "execution_count": 7,
          "metadata": {},
          "output_type": "execute_result"
        }
      ],
      "source": [
        "df.isna().sum()"
      ]
    },
    {
      "cell_type": "markdown",
      "metadata": {
        "id": "QC764ewLvxKf"
      },
      "source": [
        "Memeriksa adanya data duplikat"
      ]
    },
    {
      "cell_type": "code",
      "execution_count": 8,
      "metadata": {
        "colab": {
          "base_uri": "https://localhost:8080/"
        },
        "id": "SJQFTY4nyEhV",
        "outputId": "bcf1f593-67b4-4a7e-ecab-fa28f3813fe2"
      },
      "outputs": [
        {
          "data": {
            "text/plain": [
              "0"
            ]
          },
          "execution_count": 8,
          "metadata": {},
          "output_type": "execute_result"
        }
      ],
      "source": [
        "df.duplicated().sum()"
      ]
    },
    {
      "cell_type": "markdown",
      "metadata": {
        "id": "FHSiqaZp8DC1"
      },
      "source": [
        "### Assessing Data"
      ]
    },
    {
      "cell_type": "markdown",
      "metadata": {
        "id": "EhN5R4hr8DC1"
      },
      "source": [
        "### Cleaning Data"
      ]
    },
    {
      "cell_type": "code",
      "execution_count": 9,
      "metadata": {
        "colab": {
          "base_uri": "https://localhost:8080/"
        },
        "id": "jVnYpprE9Evz",
        "outputId": "025c1dc1-10d7-46cb-b8e3-3f19d85842ff"
      },
      "outputs": [
        {
          "data": {
            "text/plain": [
              "(No         0.000000\n",
              " year       0.000000\n",
              " month      0.000000\n",
              " day        0.000000\n",
              " hour       0.000000\n",
              " PM2.5      1.984942\n",
              " PM10       1.380333\n",
              " SO2        1.907940\n",
              " NO2        2.150354\n",
              " CO         3.698950\n",
              " O3         3.074378\n",
              " TEMP       0.054187\n",
              " PRES       0.054187\n",
              " DEWP       0.054187\n",
              " RAIN       0.054187\n",
              " wd         0.225302\n",
              " WSPM       0.037075\n",
              " station    0.000000\n",
              " dtype: float64,\n",
              " ['PM2.5', 'PM10'],\n",
              "       PM2.5   PM10\n",
              " 0       9.0    9.0\n",
              " 1      11.0   11.0\n",
              " 2       8.0    8.0\n",
              " 3       8.0    8.0\n",
              " 4       8.0    8.0\n",
              " ...     ...    ...\n",
              " 7339   21.0   81.0\n",
              " 7340   21.0   81.0\n",
              " 7341   26.0  105.0\n",
              " 7342   20.0   76.0\n",
              " 7343   29.0  111.0\n",
              " \n",
              " [7344 rows x 2 columns])"
            ]
          },
          "execution_count": 9,
          "metadata": {},
          "output_type": "execute_result"
        }
      ],
      "source": [
        "# Menghitung persentase data missing\n",
        "missing_percentages_custom = df.isnull().mean() * 100\n",
        "\n",
        "# Mendefine variabel untuk diplot\n",
        "columns_custom = ['PM2.5', 'PM10']\n",
        "\n",
        "# Melakukan filter data dengan variabel yang berbeda\n",
        "data_missing_2013_custom = df[df['year'] == 2013][columns_custom]\n",
        "\n",
        "missing_percentages_custom, columns_custom, data_missing_2013_custom"
      ]
    },
    {
      "cell_type": "code",
      "execution_count": 10,
      "metadata": {
        "colab": {
          "base_uri": "https://localhost:8080/"
        },
        "id": "Ik036Ui7jp2f",
        "outputId": "4bf99bd4-bb7b-4965-ca5a-9c1664bc720a"
      },
      "outputs": [
        {
          "name": "stderr",
          "output_type": "stream",
          "text": [
            "C:\\Users\\Asus\\AppData\\Local\\Temp\\ipykernel_5356\\2860012287.py:2: FutureWarning: DataFrame.fillna with 'method' is deprecated and will raise in a future version. Use obj.ffill() or obj.bfill() instead.\n",
            "  impute = df.fillna(method='ffill')\n"
          ]
        },
        {
          "data": {
            "text/plain": [
              "(0,\n",
              " Index(['station'], dtype='object'),\n",
              " No           int64\n",
              " year         int64\n",
              " month        int64\n",
              " day          int64\n",
              " hour         int64\n",
              " PM2.5      float64\n",
              " PM10       float64\n",
              " SO2        float64\n",
              " NO2        float64\n",
              " CO         float64\n",
              " O3         float64\n",
              " TEMP       float64\n",
              " PRES       float64\n",
              " DEWP       float64\n",
              " RAIN       float64\n",
              " wd          object\n",
              " WSPM       float64\n",
              " station     object\n",
              " dtype: object)"
            ]
          },
          "execution_count": 10,
          "metadata": {},
          "output_type": "execute_result"
        }
      ],
      "source": [
        "# Mengisi data duplicate dengan metode imputasi\n",
        "impute = df.fillna(method='ffill')\n",
        "\n",
        "duplicates = impute.duplicated().sum()\n",
        "\n",
        "constant_columns = impute.columns[impute.nunique() <= 1]\n",
        "\n",
        "data_types = impute.dtypes\n",
        "\n",
        "duplicates, constant_columns, data_types"
      ]
    },
    {
      "cell_type": "markdown",
      "metadata": {
        "id": "gp-Y6wU38DC1"
      },
      "source": [
        "## Exploratory Data Analysis (EDA)"
      ]
    },
    {
      "cell_type": "markdown",
      "metadata": {
        "id": "MW7WF2kr8DC1"
      },
      "source": [
        "### Explore ..."
      ]
    },
    {
      "cell_type": "code",
      "execution_count": 11,
      "metadata": {
        "colab": {
          "base_uri": "https://localhost:8080/",
          "height": 0
        },
        "id": "e9CQCZjk8DC2",
        "outputId": "44da140e-b8c9-43cd-aedc-e497f7349c38"
      },
      "outputs": [
        {
          "data": {
            "text/html": [
              "<div>\n",
              "<style scoped>\n",
              "    .dataframe tbody tr th:only-of-type {\n",
              "        vertical-align: middle;\n",
              "    }\n",
              "\n",
              "    .dataframe tbody tr th {\n",
              "        vertical-align: top;\n",
              "    }\n",
              "\n",
              "    .dataframe thead th {\n",
              "        text-align: right;\n",
              "    }\n",
              "</style>\n",
              "<table border=\"1\" class=\"dataframe\">\n",
              "  <thead>\n",
              "    <tr style=\"text-align: right;\">\n",
              "      <th></th>\n",
              "      <th>No</th>\n",
              "      <th>year</th>\n",
              "      <th>month</th>\n",
              "      <th>day</th>\n",
              "      <th>hour</th>\n",
              "      <th>PM2.5</th>\n",
              "      <th>PM10</th>\n",
              "      <th>SO2</th>\n",
              "      <th>NO2</th>\n",
              "      <th>CO</th>\n",
              "      <th>O3</th>\n",
              "      <th>TEMP</th>\n",
              "      <th>PRES</th>\n",
              "      <th>DEWP</th>\n",
              "      <th>RAIN</th>\n",
              "      <th>WSPM</th>\n",
              "    </tr>\n",
              "  </thead>\n",
              "  <tbody>\n",
              "    <tr>\n",
              "      <th>count</th>\n",
              "      <td>35064.000000</td>\n",
              "      <td>35064.000000</td>\n",
              "      <td>35064.000000</td>\n",
              "      <td>35064.000000</td>\n",
              "      <td>35064.000000</td>\n",
              "      <td>35064.000000</td>\n",
              "      <td>35064.000000</td>\n",
              "      <td>35064.000000</td>\n",
              "      <td>35064.000000</td>\n",
              "      <td>35064.000000</td>\n",
              "      <td>35064.000000</td>\n",
              "      <td>35064.000000</td>\n",
              "      <td>35064.000000</td>\n",
              "      <td>35064.000000</td>\n",
              "      <td>35064.000000</td>\n",
              "      <td>35064.000000</td>\n",
              "    </tr>\n",
              "    <tr>\n",
              "      <th>mean</th>\n",
              "      <td>17532.500000</td>\n",
              "      <td>2014.662560</td>\n",
              "      <td>6.522930</td>\n",
              "      <td>15.729637</td>\n",
              "      <td>11.500000</td>\n",
              "      <td>85.356562</td>\n",
              "      <td>112.729215</td>\n",
              "      <td>17.369966</td>\n",
              "      <td>55.643387</td>\n",
              "      <td>1376.914243</td>\n",
              "      <td>55.978065</td>\n",
              "      <td>13.782290</td>\n",
              "      <td>1011.516363</td>\n",
              "      <td>2.705590</td>\n",
              "      <td>0.064285</td>\n",
              "      <td>1.745317</td>\n",
              "    </tr>\n",
              "    <tr>\n",
              "      <th>std</th>\n",
              "      <td>10122.249256</td>\n",
              "      <td>1.177213</td>\n",
              "      <td>3.448752</td>\n",
              "      <td>8.800218</td>\n",
              "      <td>6.922285</td>\n",
              "      <td>86.627607</td>\n",
              "      <td>98.700415</td>\n",
              "      <td>24.270784</td>\n",
              "      <td>36.092564</td>\n",
              "      <td>1238.856861</td>\n",
              "      <td>57.165967</td>\n",
              "      <td>11.386498</td>\n",
              "      <td>10.571637</td>\n",
              "      <td>13.705357</td>\n",
              "      <td>0.796766</td>\n",
              "      <td>1.206447</td>\n",
              "    </tr>\n",
              "    <tr>\n",
              "      <th>min</th>\n",
              "      <td>1.000000</td>\n",
              "      <td>2013.000000</td>\n",
              "      <td>1.000000</td>\n",
              "      <td>1.000000</td>\n",
              "      <td>0.000000</td>\n",
              "      <td>3.000000</td>\n",
              "      <td>2.000000</td>\n",
              "      <td>0.285600</td>\n",
              "      <td>2.000000</td>\n",
              "      <td>100.000000</td>\n",
              "      <td>0.214200</td>\n",
              "      <td>-16.800000</td>\n",
              "      <td>985.100000</td>\n",
              "      <td>-35.300000</td>\n",
              "      <td>0.000000</td>\n",
              "      <td>0.000000</td>\n",
              "    </tr>\n",
              "    <tr>\n",
              "      <th>25%</th>\n",
              "      <td>8766.750000</td>\n",
              "      <td>2014.000000</td>\n",
              "      <td>4.000000</td>\n",
              "      <td>8.000000</td>\n",
              "      <td>5.750000</td>\n",
              "      <td>22.000000</td>\n",
              "      <td>39.000000</td>\n",
              "      <td>3.000000</td>\n",
              "      <td>28.000000</td>\n",
              "      <td>600.000000</td>\n",
              "      <td>8.000000</td>\n",
              "      <td>3.400000</td>\n",
              "      <td>1002.800000</td>\n",
              "      <td>-8.500000</td>\n",
              "      <td>0.000000</td>\n",
              "      <td>0.900000</td>\n",
              "    </tr>\n",
              "    <tr>\n",
              "      <th>50%</th>\n",
              "      <td>17532.500000</td>\n",
              "      <td>2015.000000</td>\n",
              "      <td>7.000000</td>\n",
              "      <td>16.000000</td>\n",
              "      <td>11.500000</td>\n",
              "      <td>60.000000</td>\n",
              "      <td>91.000000</td>\n",
              "      <td>8.000000</td>\n",
              "      <td>49.000000</td>\n",
              "      <td>1000.000000</td>\n",
              "      <td>42.000000</td>\n",
              "      <td>14.800000</td>\n",
              "      <td>1011.000000</td>\n",
              "      <td>3.300000</td>\n",
              "      <td>0.000000</td>\n",
              "      <td>1.400000</td>\n",
              "    </tr>\n",
              "    <tr>\n",
              "      <th>75%</th>\n",
              "      <td>26298.250000</td>\n",
              "      <td>2016.000000</td>\n",
              "      <td>10.000000</td>\n",
              "      <td>23.000000</td>\n",
              "      <td>17.250000</td>\n",
              "      <td>117.000000</td>\n",
              "      <td>154.000000</td>\n",
              "      <td>21.000000</td>\n",
              "      <td>77.000000</td>\n",
              "      <td>1700.000000</td>\n",
              "      <td>82.000000</td>\n",
              "      <td>23.500000</td>\n",
              "      <td>1020.000000</td>\n",
              "      <td>15.200000</td>\n",
              "      <td>0.000000</td>\n",
              "      <td>2.300000</td>\n",
              "    </tr>\n",
              "    <tr>\n",
              "      <th>max</th>\n",
              "      <td>35064.000000</td>\n",
              "      <td>2017.000000</td>\n",
              "      <td>12.000000</td>\n",
              "      <td>31.000000</td>\n",
              "      <td>23.000000</td>\n",
              "      <td>999.000000</td>\n",
              "      <td>961.000000</td>\n",
              "      <td>411.000000</td>\n",
              "      <td>251.000000</td>\n",
              "      <td>9800.000000</td>\n",
              "      <td>358.000000</td>\n",
              "      <td>40.600000</td>\n",
              "      <td>1042.000000</td>\n",
              "      <td>28.500000</td>\n",
              "      <td>46.400000</td>\n",
              "      <td>13.200000</td>\n",
              "    </tr>\n",
              "  </tbody>\n",
              "</table>\n",
              "</div>"
            ],
            "text/plain": [
              "                 No          year         month           day          hour  \\\n",
              "count  35064.000000  35064.000000  35064.000000  35064.000000  35064.000000   \n",
              "mean   17532.500000   2014.662560      6.522930     15.729637     11.500000   \n",
              "std    10122.249256      1.177213      3.448752      8.800218      6.922285   \n",
              "min        1.000000   2013.000000      1.000000      1.000000      0.000000   \n",
              "25%     8766.750000   2014.000000      4.000000      8.000000      5.750000   \n",
              "50%    17532.500000   2015.000000      7.000000     16.000000     11.500000   \n",
              "75%    26298.250000   2016.000000     10.000000     23.000000     17.250000   \n",
              "max    35064.000000   2017.000000     12.000000     31.000000     23.000000   \n",
              "\n",
              "              PM2.5          PM10           SO2           NO2            CO  \\\n",
              "count  35064.000000  35064.000000  35064.000000  35064.000000  35064.000000   \n",
              "mean      85.356562    112.729215     17.369966     55.643387   1376.914243   \n",
              "std       86.627607     98.700415     24.270784     36.092564   1238.856861   \n",
              "min        3.000000      2.000000      0.285600      2.000000    100.000000   \n",
              "25%       22.000000     39.000000      3.000000     28.000000    600.000000   \n",
              "50%       60.000000     91.000000      8.000000     49.000000   1000.000000   \n",
              "75%      117.000000    154.000000     21.000000     77.000000   1700.000000   \n",
              "max      999.000000    961.000000    411.000000    251.000000   9800.000000   \n",
              "\n",
              "                 O3          TEMP          PRES          DEWP          RAIN  \\\n",
              "count  35064.000000  35064.000000  35064.000000  35064.000000  35064.000000   \n",
              "mean      55.978065     13.782290   1011.516363      2.705590      0.064285   \n",
              "std       57.165967     11.386498     10.571637     13.705357      0.796766   \n",
              "min        0.214200    -16.800000    985.100000    -35.300000      0.000000   \n",
              "25%        8.000000      3.400000   1002.800000     -8.500000      0.000000   \n",
              "50%       42.000000     14.800000   1011.000000      3.300000      0.000000   \n",
              "75%       82.000000     23.500000   1020.000000     15.200000      0.000000   \n",
              "max      358.000000     40.600000   1042.000000     28.500000     46.400000   \n",
              "\n",
              "               WSPM  \n",
              "count  35064.000000  \n",
              "mean       1.745317  \n",
              "std        1.206447  \n",
              "min        0.000000  \n",
              "25%        0.900000  \n",
              "50%        1.400000  \n",
              "75%        2.300000  \n",
              "max       13.200000  "
            ]
          },
          "execution_count": 11,
          "metadata": {},
          "output_type": "execute_result"
        }
      ],
      "source": [
        "impute.describe()"
      ]
    },
    {
      "cell_type": "markdown",
      "metadata": {
        "id": "zsyZjqak8DC2"
      },
      "source": [
        "## Visualization & Explanatory Analysis"
      ]
    },
    {
      "cell_type": "code",
      "execution_count": 12,
      "metadata": {
        "colab": {
          "base_uri": "https://localhost:8080/",
          "height": 564
        },
        "id": "AFNdCvfTS5H3",
        "outputId": "a2fd5c71-9671-40b2-fcac-add288919c98"
      },
      "outputs": [
        {
          "name": "stderr",
          "output_type": "stream",
          "text": [
            "C:\\Users\\Asus\\AppData\\Local\\Temp\\ipykernel_5356\\4276816614.py:2: FutureWarning: 'M' is deprecated and will be removed in a future version, please use 'ME' instead.\n",
            "  data_time_series = impute[['date', 'PM2.5', 'NO2']].set_index('date').resample('M').mean()\n"
          ]
        },
        {
          "data": {
            "image/png": "[encoded data removed]",
            "text/plain": [
              "<Figure size 1500x600 with 1 Axes>"
            ]
          },
          "metadata": {},
          "output_type": "display_data"
        }
      ],
      "source": [
        "impute['date'] = pd.to_datetime(impute[['year', 'month', 'day', 'hour']])\n",
        "data_time_series = impute[['date', 'PM2.5', 'NO2']].set_index('date').resample('M').mean()\n",
        "\n",
        "# Melakukan ploting rerata konsentrasi bulanan dari PM2.5 dan No2\n",
        "plt.figure(figsize=(15, 6))\n",
        "plt.plot(data_time_series.index, data_time_series['PM2.5'], label='PM2.5', color='blue')\n",
        "plt.plot(data_time_series.index, data_time_series['NO2'], label='NO2', color='green')\n",
        "plt.title('Monthly Average Concentrations of PM2.5 and NO2')\n",
        "plt.xlabel('Date')\n",
        "plt.ylabel('Concentration')\n",
        "plt.legend()\n",
        "plt.show()"
      ]
    },
    {
      "cell_type": "code",
      "execution_count": 14,
      "metadata": {
        "colab": {
          "base_uri": "https://localhost:8080/",
          "height": 394
        },
        "id": "7NMRkwaETIVA",
        "outputId": "48ec56da-e9fe-43f3-960b-4bcd3762f96d"
      },
      "outputs": [
        {
          "data": {
            "text/html": [
              "<div>\n",
              "<style scoped>\n",
              "    .dataframe tbody tr th:only-of-type {\n",
              "        vertical-align: middle;\n",
              "    }\n",
              "\n",
              "    .dataframe tbody tr th {\n",
              "        vertical-align: top;\n",
              "    }\n",
              "\n",
              "    .dataframe thead th {\n",
              "        text-align: right;\n",
              "    }\n",
              "</style>\n",
              "<table border=\"1\" class=\"dataframe\">\n",
              "  <thead>\n",
              "    <tr style=\"text-align: right;\">\n",
              "      <th></th>\n",
              "      <th>PM2.5</th>\n",
              "      <th>PM10</th>\n",
              "      <th>SO2</th>\n",
              "      <th>NO2</th>\n",
              "      <th>CO</th>\n",
              "      <th>O3</th>\n",
              "      <th>TEMP</th>\n",
              "      <th>PRES</th>\n",
              "      <th>DEWP</th>\n",
              "      <th>RAIN</th>\n",
              "      <th>WSPM</th>\n",
              "    </tr>\n",
              "  </thead>\n",
              "  <tbody>\n",
              "    <tr>\n",
              "      <th>PM2.5</th>\n",
              "      <td>1.000000</td>\n",
              "      <td>0.882580</td>\n",
              "      <td>0.501614</td>\n",
              "      <td>0.693154</td>\n",
              "      <td>0.808782</td>\n",
              "      <td>-0.195160</td>\n",
              "      <td>-0.186963</td>\n",
              "      <td>0.035836</td>\n",
              "      <td>0.071517</td>\n",
              "      <td>-0.020305</td>\n",
              "      <td>-0.296578</td>\n",
              "    </tr>\n",
              "    <tr>\n",
              "      <th>PM10</th>\n",
              "      <td>0.882580</td>\n",
              "      <td>1.000000</td>\n",
              "      <td>0.500151</td>\n",
              "      <td>0.677121</td>\n",
              "      <td>0.734418</td>\n",
              "      <td>-0.148081</td>\n",
              "      <td>-0.147809</td>\n",
              "      <td>-0.001292</td>\n",
              "      <td>0.039851</td>\n",
              "      <td>-0.033865</td>\n",
              "      <td>-0.230621</td>\n",
              "    </tr>\n",
              "    <tr>\n",
              "      <th>SO2</th>\n",
              "      <td>0.501614</td>\n",
              "      <td>0.500151</td>\n",
              "      <td>1.000000</td>\n",
              "      <td>0.487096</td>\n",
              "      <td>0.553781</td>\n",
              "      <td>-0.186340</td>\n",
              "      <td>-0.355046</td>\n",
              "      <td>0.205769</td>\n",
              "      <td>-0.289083</td>\n",
              "      <td>-0.042556</td>\n",
              "      <td>-0.137202</td>\n",
              "    </tr>\n",
              "    <tr>\n",
              "      <th>NO2</th>\n",
              "      <td>0.693154</td>\n",
              "      <td>0.677121</td>\n",
              "      <td>0.487096</td>\n",
              "      <td>1.000000</td>\n",
              "      <td>0.742033</td>\n",
              "      <td>-0.519691</td>\n",
              "      <td>-0.309390</td>\n",
              "      <td>0.144019</td>\n",
              "      <td>-0.031263</td>\n",
              "      <td>-0.047512</td>\n",
              "      <td>-0.471866</td>\n",
              "    </tr>\n",
              "    <tr>\n",
              "      <th>CO</th>\n",
              "      <td>0.808782</td>\n",
              "      <td>0.734418</td>\n",
              "      <td>0.553781</td>\n",
              "      <td>0.742033</td>\n",
              "      <td>1.000000</td>\n",
              "      <td>-0.332573</td>\n",
              "      <td>-0.339498</td>\n",
              "      <td>0.169739</td>\n",
              "      <td>-0.053024</td>\n",
              "      <td>-0.015881</td>\n",
              "      <td>-0.336120</td>\n",
              "    </tr>\n",
              "    <tr>\n",
              "      <th>O3</th>\n",
              "      <td>-0.195160</td>\n",
              "      <td>-0.148081</td>\n",
              "      <td>-0.186340</td>\n",
              "      <td>-0.519691</td>\n",
              "      <td>-0.332573</td>\n",
              "      <td>1.000000</td>\n",
              "      <td>0.615856</td>\n",
              "      <td>-0.453587</td>\n",
              "      <td>0.332634</td>\n",
              "      <td>0.024390</td>\n",
              "      <td>0.315037</td>\n",
              "    </tr>\n",
              "    <tr>\n",
              "      <th>TEMP</th>\n",
              "      <td>-0.186963</td>\n",
              "      <td>-0.147809</td>\n",
              "      <td>-0.355046</td>\n",
              "      <td>-0.309390</td>\n",
              "      <td>-0.339498</td>\n",
              "      <td>0.615856</td>\n",
              "      <td>1.000000</td>\n",
              "      <td>-0.828487</td>\n",
              "      <td>0.817583</td>\n",
              "      <td>0.039015</td>\n",
              "      <td>0.061323</td>\n",
              "    </tr>\n",
              "    <tr>\n",
              "      <th>PRES</th>\n",
              "      <td>0.035836</td>\n",
              "      <td>-0.001292</td>\n",
              "      <td>0.205769</td>\n",
              "      <td>0.144019</td>\n",
              "      <td>0.169739</td>\n",
              "      <td>-0.453587</td>\n",
              "      <td>-0.828487</td>\n",
              "      <td>1.000000</td>\n",
              "      <td>-0.770060</td>\n",
              "      <td>-0.063392</td>\n",
              "      <td>0.054143</td>\n",
              "    </tr>\n",
              "    <tr>\n",
              "      <th>DEWP</th>\n",
              "      <td>0.071517</td>\n",
              "      <td>0.039851</td>\n",
              "      <td>-0.289083</td>\n",
              "      <td>-0.031263</td>\n",
              "      <td>-0.053024</td>\n",
              "      <td>0.332634</td>\n",
              "      <td>0.817583</td>\n",
              "      <td>-0.770060</td>\n",
              "      <td>1.000000</td>\n",
              "      <td>0.088306</td>\n",
              "      <td>-0.278072</td>\n",
              "    </tr>\n",
              "    <tr>\n",
              "      <th>RAIN</th>\n",
              "      <td>-0.020305</td>\n",
              "      <td>-0.033865</td>\n",
              "      <td>-0.042556</td>\n",
              "      <td>-0.047512</td>\n",
              "      <td>-0.015881</td>\n",
              "      <td>0.024390</td>\n",
              "      <td>0.039015</td>\n",
              "      <td>-0.063392</td>\n",
              "      <td>0.088306</td>\n",
              "      <td>1.000000</td>\n",
              "      <td>0.030878</td>\n",
              "    </tr>\n",
              "    <tr>\n",
              "      <th>WSPM</th>\n",
              "      <td>-0.296578</td>\n",
              "      <td>-0.230621</td>\n",
              "      <td>-0.137202</td>\n",
              "      <td>-0.471866</td>\n",
              "      <td>-0.336120</td>\n",
              "      <td>0.315037</td>\n",
              "      <td>0.061323</td>\n",
              "      <td>0.054143</td>\n",
              "      <td>-0.278072</td>\n",
              "      <td>0.030878</td>\n",
              "      <td>1.000000</td>\n",
              "    </tr>\n",
              "  </tbody>\n",
              "</table>\n",
              "</div>"
            ],
            "text/plain": [
              "          PM2.5      PM10       SO2       NO2        CO        O3      TEMP  \\\n",
              "PM2.5  1.000000  0.882580  0.501614  0.693154  0.808782 -0.195160 -0.186963   \n",
              "PM10   0.882580  1.000000  0.500151  0.677121  0.734418 -0.148081 -0.147809   \n",
              "SO2    0.501614  0.500151  1.000000  0.487096  0.553781 -0.186340 -0.355046   \n",
              "NO2    0.693154  0.677121  0.487096  1.000000  0.742033 -0.519691 -0.309390   \n",
              "CO     0.808782  0.734418  0.553781  0.742033  1.000000 -0.332573 -0.339498   \n",
              "O3    -0.195160 -0.148081 -0.186340 -0.519691 -0.332573  1.000000  0.615856   \n",
              "TEMP  -0.186963 -0.147809 -0.355046 -0.309390 -0.339498  0.615856  1.000000   \n",
              "PRES   0.035836 -0.001292  0.205769  0.144019  0.169739 -0.453587 -0.828487   \n",
              "DEWP   0.071517  0.039851 -0.289083 -0.031263 -0.053024  0.332634  0.817583   \n",
              "RAIN  -0.020305 -0.033865 -0.042556 -0.047512 -0.015881  0.024390  0.039015   \n",
              "WSPM  -0.296578 -0.230621 -0.137202 -0.471866 -0.336120  0.315037  0.061323   \n",
              "\n",
              "           PRES      DEWP      RAIN      WSPM  \n",
              "PM2.5  0.035836  0.071517 -0.020305 -0.296578  \n",
              "PM10  -0.001292  0.039851 -0.033865 -0.230621  \n",
              "SO2    0.205769 -0.289083 -0.042556 -0.137202  \n",
              "NO2    0.144019 -0.031263 -0.047512 -0.471866  \n",
              "CO     0.169739 -0.053024 -0.015881 -0.336120  \n",
              "O3    -0.453587  0.332634  0.024390  0.315037  \n",
              "TEMP  -0.828487  0.817583  0.039015  0.061323  \n",
              "PRES   1.000000 -0.770060 -0.063392  0.054143  \n",
              "DEWP  -0.770060  1.000000  0.088306 -0.278072  \n",
              "RAIN  -0.063392  0.088306  1.000000  0.030878  \n",
              "WSPM   0.054143 -0.278072  0.030878  1.000000  "
            ]
          },
          "execution_count": 14,
          "metadata": {},
          "output_type": "execute_result"
        }
      ],
      "source": [
        "# Menampilkan matriks kolerasi\n",
        "correlation_matrix = impute[['PM2.5', 'PM10', 'SO2', 'NO2', 'CO', 'O3', 'TEMP', 'PRES', 'DEWP', 'RAIN', 'WSPM']].corr()\n",
        "correlation_matrix"
      ]
    },
    {
      "cell_type": "markdown",
      "metadata": {
        "id": "HZxOiQ6n8DC2"
      },
      "source": [
        "### Pertanyaan 1:"
      ]
    },
    {
      "cell_type": "markdown",
      "metadata": {
        "id": "2x6gG_ffptkh"
      },
      "source": [
        "Bagaimanakah hubungan antara pm2.5 dan NO2?"
      ]
    },
    {
      "cell_type": "code",
      "execution_count": 15,
      "metadata": {
        "colab": {
          "base_uri": "https://localhost:8080/",
          "height": 449
        },
        "id": "zzFIty9_pivy",
        "outputId": "3f5119da-5075-4c8e-830f-ab657cbb163a"
      },
      "outputs": [
        {
          "data": {
            "image/png": "[encoded data removed]",
            "text/plain": [
              "<Figure size 640x480 with 1 Axes>"
            ]
          },
          "metadata": {},
          "output_type": "display_data"
        }
      ],
      "source": [
        "#jawaban\n",
        "from matplotlib import pyplot as plt\n",
        "correlation_matrix.plot(kind='scatter', x='PM2.5', y='PM10', s=32, alpha=.8)\n",
        "plt.gca().spines[['top', 'right',]].set_visible(False)"
      ]
    },
    {
      "cell_type": "markdown",
      "metadata": {
        "id": "kPfTqucBpyiJ"
      },
      "source": [
        "Berdasarkan grafik dapat dilihat bahwasannya peningkatan jumlah pm2.5 berbanding lurus dengan peningkatan PM10"
      ]
    },
    {
      "cell_type": "markdown",
      "metadata": {
        "id": "DgHI7CiU8DC2"
      },
      "source": [
        "### Pertanyaan 2:"
      ]
    },
    {
      "cell_type": "markdown",
      "metadata": {
        "id": "NBmPCZN4q2qy"
      },
      "source": [
        "Tahun berapakah yang memiliki rerata bulanan pm2.5 paling tinggi?"
      ]
    },
    {
      "cell_type": "code",
      "execution_count": 16,
      "metadata": {
        "colab": {
          "base_uri": "https://localhost:8080/",
          "height": 472
        },
        "id": "yHj8CpRyq5V5",
        "outputId": "4672de7f-c9c1-423e-8df9-0f537253f70a"
      },
      "outputs": [
        {
          "data": {
            "image/png": "[encoded data removed]",
            "text/plain": [
              "<Figure size 640x480 with 1 Axes>"
            ]
          },
          "metadata": {},
          "output_type": "display_data"
        }
      ],
      "source": [
        "plt.plot(data_time_series.index, data_time_series['NO2'], label='NO2', color='Blue')\n",
        "plt.title('Monthly Average Concentrations of NO2')\n",
        "plt.xlabel('Date')\n",
        "plt.ylabel('Concentration')\n",
        "plt.legend()\n",
        "plt.show()"
      ]
    },
    {
      "cell_type": "markdown",
      "metadata": {
        "id": "8KNY2wOptzEb"
      },
      "source": [
        "Berdasarkan grafik dapat dilihat tingkat rerata NO2 tertinggi di setiap stasiun adalah 2017-1"
      ]
    },
    {
      "cell_type": "markdown",
      "metadata": {
        "id": "_WeHlCeX8DC2"
      },
      "source": [
        "## Conclusion"
      ]
    },
    {
      "cell_type": "markdown",
      "metadata": {
        "id": "ZTcyR48Y8DC2"
      },
      "source": [
        "- Conclution pertanyaan 1 :\n",
        "Peningkatan Jumlah PM2.5 Berbanding Lurus dengan Peningkatan PM10:\n",
        "Grafik menunjukkan adanya hubungan yang positif antara konsentrasi PM2.5 dan PM10. Ketika konsentrasi PM2.5 meningkat, cenderung juga terjadi peningkatan konsentrasi PM10. Hal ini mengindikasikan bahwa sumber polusi yang sama atau faktor-faktor yang serupa mungkin berkontribusi terhadap peningkatan konsentrasi partikel PM2.5 dan PM10. Misalnya, aktivitas pembakaran atau industri yang menghasilkan partikel-partikel tersebut.\n"
      ]
    },
    {
      "cell_type": "markdown",
      "metadata": {
        "id": "8pnRUFAXukXD"
      },
      "source": [
        "- Conclution pertanyaan 2 : Tingkat Rerata NO2 Tertinggi di Setiap Stasiun adalah 2017-1:\n",
        "Dari grafik, dapat diamati bahwa pada tahun 2017, stasiun yang ditunjukkan sebagai \"2017-1\" memiliki tingkat rerata NO2 yang paling tinggi dibandingkan dengan stasiun lainnya. Hal ini menunjukkan bahwa pada tahun 2017, stasiun tersebut mungkin mengalami tingkat polusi NO2 yang lebih tinggi dibandingkan dengan stasiun lainnya. Penyebabnya bisa bermacam-macam, seperti peningkatan aktivitas industri, transportasi, atau kebakaran. Hal ini menunjukkan bahwa tahun 2017 mungkin merupakan tahun dengan tingkat polusi NO2 yang lebih tinggi di wilayah yang diamati."
      ]
    }
  ],
  "metadata": {
    "colab": {
      "provenance": []
    },
    "kernelspec": {
      "display_name": "Python 3",
      "name": "python3"
    },
    "language_info": {
      "codemirror_mode": {
        "name": "ipython",
        "version": 3
      },
      "file_extension": ".py",
      "mimetype": "text/x-python",
      "name": "python",
      "nbconvert_exporter": "python",
      "pygments_lexer": "ipython3",
      "version": "3.11.3"
    },
    "orig_nbformat": 4,
    "vscode": {
      "interpreter": {
        "hash": "972b3bf27e332e87b5379f2791f6ef9dfc79c71018c370b0d7423235e20fe4d7"
      }
    }
  },
  "nbformat": 4,
  "nbformat_minor": 0
}
